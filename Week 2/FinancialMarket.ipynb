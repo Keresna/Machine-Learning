{
  "nbformat": 4,
  "nbformat_minor": 0,
  "metadata": {
    "colab": {
      "provenance": []
    },
    "kernelspec": {
      "name": "python3",
      "display_name": "Python 3"
    },
    "language_info": {
      "name": "python"
    }
  },
  "cells": [
    {
      "cell_type": "markdown",
      "source": [
        "### Linear regresi dengan basis fungsi (FinancialMarket Dataset)"
      ],
      "metadata": {
        "id": "siEV4MiBnZaL"
      }
    },
    {
      "cell_type": "markdown",
      "source": [
        "Kode yang disediakan bertujuan untuk mempersiapkan analisis regresi menggunakan Python. Pertama, beberapa library penting diimpor, seperti pandas untuk manipulasi data, sklearn untuk model regresi dan evaluasi, serta matplotlib untuk visualisasi. Kemudian, kode ini memungkinkan pengguna untuk mengunggah file CSV yang berisi dataset ke dalam lingkungan Google Colab. Setelah file diunggah, dataset dimuat ke dalam sebuah DataFrame dengan menggunakan `pd.read_csv`. Terakhir, dengan menggunakan `df.head()`, lima baris pertama dari dataset ditampilkan untuk memberikan gambaran awal tentang struktur dan isi data, yang akan berguna untuk langkah-langkah analisis dan pemodelan selanjutnya. Dengan langkah-langkah ini, pengguna siap untuk melakukan pemrosesan data lebih lanjut, membagi dataset, dan melatih model regresi."
      ],
      "metadata": {
        "id": "W72dwbqvkJeK"
      }
    },
    {
      "cell_type": "code",
      "source": [
        "import pandas as pd\n",
        "from sklearn.model_selection import train_test_split\n",
        "from sklearn.linear_model import LinearRegression\n",
        "from sklearn.metrics import mean_squared_error, r2_score\n",
        "from sklearn.preprocessing import PolynomialFeatures\n",
        "import numpy as np\n",
        "import matplotlib.pyplot as plt\n",
        "from google.colab import files\n",
        "\n",
        "uploaded = files.upload()\n",
        "df = pd.read_csv('FinancialMarket.csv')\n",
        "\n",
        "print(df.head())"
      ],
      "metadata": {
        "colab": {
          "base_uri": "https://localhost:8080/",
          "height": 177
        },
        "id": "cD_ZuGA6X28s",
        "outputId": "b6b4ab3b-27c3-4c3f-fcc5-7571740d03ac"
      },
      "execution_count": 1,
      "outputs": [
        {
          "output_type": "display_data",
          "data": {
            "text/plain": [
              "<IPython.core.display.HTML object>"
            ],
            "text/html": [
              "\n",
              "     <input type=\"file\" id=\"files-d4f7bf6a-2bd8-4d48-98b5-bca73ee7b04a\" name=\"files[]\" multiple disabled\n",
              "        style=\"border:none\" />\n",
              "     <output id=\"result-d4f7bf6a-2bd8-4d48-98b5-bca73ee7b04a\">\n",
              "      Upload widget is only available when the cell has been executed in the\n",
              "      current browser session. Please rerun this cell to enable.\n",
              "      </output>\n",
              "      <script>// Copyright 2017 Google LLC\n",
              "//\n",
              "// Licensed under the Apache License, Version 2.0 (the \"License\");\n",
              "// you may not use this file except in compliance with the License.\n",
              "// You may obtain a copy of the License at\n",
              "//\n",
              "//      http://www.apache.org/licenses/LICENSE-2.0\n",
              "//\n",
              "// Unless required by applicable law or agreed to in writing, software\n",
              "// distributed under the License is distributed on an \"AS IS\" BASIS,\n",
              "// WITHOUT WARRANTIES OR CONDITIONS OF ANY KIND, either express or implied.\n",
              "// See the License for the specific language governing permissions and\n",
              "// limitations under the License.\n",
              "\n",
              "/**\n",
              " * @fileoverview Helpers for google.colab Python module.\n",
              " */\n",
              "(function(scope) {\n",
              "function span(text, styleAttributes = {}) {\n",
              "  const element = document.createElement('span');\n",
              "  element.textContent = text;\n",
              "  for (const key of Object.keys(styleAttributes)) {\n",
              "    element.style[key] = styleAttributes[key];\n",
              "  }\n",
              "  return element;\n",
              "}\n",
              "\n",
              "// Max number of bytes which will be uploaded at a time.\n",
              "const MAX_PAYLOAD_SIZE = 100 * 1024;\n",
              "\n",
              "function _uploadFiles(inputId, outputId) {\n",
              "  const steps = uploadFilesStep(inputId, outputId);\n",
              "  const outputElement = document.getElementById(outputId);\n",
              "  // Cache steps on the outputElement to make it available for the next call\n",
              "  // to uploadFilesContinue from Python.\n",
              "  outputElement.steps = steps;\n",
              "\n",
              "  return _uploadFilesContinue(outputId);\n",
              "}\n",
              "\n",
              "// This is roughly an async generator (not supported in the browser yet),\n",
              "// where there are multiple asynchronous steps and the Python side is going\n",
              "// to poll for completion of each step.\n",
              "// This uses a Promise to block the python side on completion of each step,\n",
              "// then passes the result of the previous step as the input to the next step.\n",
              "function _uploadFilesContinue(outputId) {\n",
              "  const outputElement = document.getElementById(outputId);\n",
              "  const steps = outputElement.steps;\n",
              "\n",
              "  const next = steps.next(outputElement.lastPromiseValue);\n",
              "  return Promise.resolve(next.value.promise).then((value) => {\n",
              "    // Cache the last promise value to make it available to the next\n",
              "    // step of the generator.\n",
              "    outputElement.lastPromiseValue = value;\n",
              "    return next.value.response;\n",
              "  });\n",
              "}\n",
              "\n",
              "/**\n",
              " * Generator function which is called between each async step of the upload\n",
              " * process.\n",
              " * @param {string} inputId Element ID of the input file picker element.\n",
              " * @param {string} outputId Element ID of the output display.\n",
              " * @return {!Iterable<!Object>} Iterable of next steps.\n",
              " */\n",
              "function* uploadFilesStep(inputId, outputId) {\n",
              "  const inputElement = document.getElementById(inputId);\n",
              "  inputElement.disabled = false;\n",
              "\n",
              "  const outputElement = document.getElementById(outputId);\n",
              "  outputElement.innerHTML = '';\n",
              "\n",
              "  const pickedPromise = new Promise((resolve) => {\n",
              "    inputElement.addEventListener('change', (e) => {\n",
              "      resolve(e.target.files);\n",
              "    });\n",
              "  });\n",
              "\n",
              "  const cancel = document.createElement('button');\n",
              "  inputElement.parentElement.appendChild(cancel);\n",
              "  cancel.textContent = 'Cancel upload';\n",
              "  const cancelPromise = new Promise((resolve) => {\n",
              "    cancel.onclick = () => {\n",
              "      resolve(null);\n",
              "    };\n",
              "  });\n",
              "\n",
              "  // Wait for the user to pick the files.\n",
              "  const files = yield {\n",
              "    promise: Promise.race([pickedPromise, cancelPromise]),\n",
              "    response: {\n",
              "      action: 'starting',\n",
              "    }\n",
              "  };\n",
              "\n",
              "  cancel.remove();\n",
              "\n",
              "  // Disable the input element since further picks are not allowed.\n",
              "  inputElement.disabled = true;\n",
              "\n",
              "  if (!files) {\n",
              "    return {\n",
              "      response: {\n",
              "        action: 'complete',\n",
              "      }\n",
              "    };\n",
              "  }\n",
              "\n",
              "  for (const file of files) {\n",
              "    const li = document.createElement('li');\n",
              "    li.append(span(file.name, {fontWeight: 'bold'}));\n",
              "    li.append(span(\n",
              "        `(${file.type || 'n/a'}) - ${file.size} bytes, ` +\n",
              "        `last modified: ${\n",
              "            file.lastModifiedDate ? file.lastModifiedDate.toLocaleDateString() :\n",
              "                                    'n/a'} - `));\n",
              "    const percent = span('0% done');\n",
              "    li.appendChild(percent);\n",
              "\n",
              "    outputElement.appendChild(li);\n",
              "\n",
              "    const fileDataPromise = new Promise((resolve) => {\n",
              "      const reader = new FileReader();\n",
              "      reader.onload = (e) => {\n",
              "        resolve(e.target.result);\n",
              "      };\n",
              "      reader.readAsArrayBuffer(file);\n",
              "    });\n",
              "    // Wait for the data to be ready.\n",
              "    let fileData = yield {\n",
              "      promise: fileDataPromise,\n",
              "      response: {\n",
              "        action: 'continue',\n",
              "      }\n",
              "    };\n",
              "\n",
              "    // Use a chunked sending to avoid message size limits. See b/62115660.\n",
              "    let position = 0;\n",
              "    do {\n",
              "      const length = Math.min(fileData.byteLength - position, MAX_PAYLOAD_SIZE);\n",
              "      const chunk = new Uint8Array(fileData, position, length);\n",
              "      position += length;\n",
              "\n",
              "      const base64 = btoa(String.fromCharCode.apply(null, chunk));\n",
              "      yield {\n",
              "        response: {\n",
              "          action: 'append',\n",
              "          file: file.name,\n",
              "          data: base64,\n",
              "        },\n",
              "      };\n",
              "\n",
              "      let percentDone = fileData.byteLength === 0 ?\n",
              "          100 :\n",
              "          Math.round((position / fileData.byteLength) * 100);\n",
              "      percent.textContent = `${percentDone}% done`;\n",
              "\n",
              "    } while (position < fileData.byteLength);\n",
              "  }\n",
              "\n",
              "  // All done.\n",
              "  yield {\n",
              "    response: {\n",
              "      action: 'complete',\n",
              "    }\n",
              "  };\n",
              "}\n",
              "\n",
              "scope.google = scope.google || {};\n",
              "scope.google.colab = scope.google.colab || {};\n",
              "scope.google.colab._files = {\n",
              "  _uploadFiles,\n",
              "  _uploadFilesContinue,\n",
              "};\n",
              "})(self);\n",
              "</script> "
            ]
          },
          "metadata": {}
        },
        {
          "output_type": "stream",
          "name": "stdout",
          "text": [
            "Saving FinancialMarket.csv to FinancialMarket.csv\n",
            "         x  combined_data\n",
            "0  0.00000       0.003073\n",
            "1  0.01001       0.033492\n",
            "2  0.02002      -0.027269\n",
            "3  0.03003       0.176319\n",
            "4  0.04004      -0.006027\n"
          ]
        }
      ]
    },
    {
      "cell_type": "markdown",
      "source": [
        "Kode yang diberikan bertujuan untuk membersihkan dataset dan memberikan informasi penting tentang struktur data. Pertama, baris yang mengandung nilai kosong *(NaN*) dihapus dari DataFrame dengan menggunakan metode *dropna()*, sehingga analisis dan model yang akan dibangun tidak terpengaruh oleh data yang hilang. Selanjutnya, tipe data setiap kolom ditampilkan menggunakan `df.dtypes`, yang membantu pengguna memahami jenis data yang ada, seperti angka atau string, dan menentukan langkah pemrosesan data yang diperlukan. Terakhir, daftar nama kolom dalam dataset ditampilkan melalui `df.columns`, memberikan gambaran umum tentang fitur-fitur yang tersedia. Dengan langkah-langkah ini, pengguna dapat melanjutkan analisis dengan pemahaman yang lebih baik tentang dataset yang sedang digunakan."
      ],
      "metadata": {
        "id": "TwA8EN8Wk-CI"
      }
    },
    {
      "cell_type": "code",
      "source": [
        "df = df.dropna()\n",
        "\n",
        "print(df.dtypes)\n",
        "\n",
        "print(\"Column names in the dataset:\")\n",
        "print(df.columns)"
      ],
      "metadata": {
        "id": "ADm_H-Wjd6bh"
      },
      "execution_count": null,
      "outputs": []
    },
    {
      "cell_type": "markdown",
      "source": [
        "Kode yang diberikan berfungsi untuk mempersiapkan data untuk model regresi dengan menentukan variabel target dan membagi dataset menjadi set pelatihan dan pengujian. Pertama, variabel target_column ditetapkan sebagai 'combined_data', yang menunjukkan kolom dalam DataFrame df yang akan digunakan sebagai variabel target dalam analisis. Kemudian, X didefinisikan dengan menghapus kolom target dari DataFrame menggunakan `df.drop(target_column, axis=1)`, sehingga X berisi semua fitur yang akan digunakan untuk memprediksi nilai target. Variabel y diisi dengan kolom target itu sendiri, yaitu `df[target_column]`. Selanjutnya, data dibagi menjadi set pelatihan dan pengujian menggunakan fungsi train_test_split, **di mana 80% data digunakan untuk pelatihan dan 20% untuk pengujian**, dengan parameter random_state=42 untuk memastikan bahwa pembagian data tersebut dapat direproduksi. Dengan langkah-langkah ini, data siap untuk melatih model regresi dan mengevaluasi kinerjanya."
      ],
      "metadata": {
        "id": "HYNUiZFjlZVA"
      }
    },
    {
      "cell_type": "code",
      "source": [
        "target_column = 'combined_data'\n",
        "\n",
        "X = df.drop(target_column, axis=1)\n",
        "y = df[target_column]\n",
        "\n",
        "X_train, X_test, y_train, y_test = train_test_split(X, y, test_size=0.2, random_state=42)"
      ],
      "metadata": {
        "id": "XIlcvf3xeCR9"
      },
      "execution_count": null,
      "outputs": []
    },
    {
      "cell_type": "markdown",
      "source": [
        "Kode ini bertujuan untuk melatih model regresi linier menggunakan data pelatihan yang telah disiapkan sebelumnya. Pertama, objek model dibuat dengan memanggil kelas `LinearRegression()` dari pustaka sklearn. Ini menginisialisasi model regresi linier yang akan digunakan untuk memprediksi nilai target berdasarkan fitur yang ada. Selanjutnya, metode` fit(X_train, y_train)` dipanggil pada objek model, di mana X_train berisi fitur-fitur dari data pelatihan dan y_train berisi nilai target yang sesuai. Proses ini memungkinkan model untuk belajar dari data pelatihan, mengidentifikasi hubungan antara fitur dan target, dan mengoptimalkan parameter internalnya untuk meminimalkan kesalahan prediksi. Setelah langkah ini, model siap untuk digunakan dalam membuat prediksi pada data baru atau data pengujian."
      ],
      "metadata": {
        "id": "B_v1FSttluwe"
      }
    },
    {
      "cell_type": "code",
      "source": [
        "model = LinearRegression()\n",
        "model.fit(X_train, y_train)"
      ],
      "metadata": {
        "id": "BMGzbYfieE66"
      },
      "execution_count": null,
      "outputs": []
    },
    {
      "cell_type": "markdown",
      "source": [
        "Kode ini berfungsi untuk membuat prediksi nilai target menggunakan model regresi linier yang telah dilatih sebelumnya. Dengan memanggil metode `predict(X_test)` pada objek model, kode ini menghasilkan prediksi y_pred berdasarkan fitur-fitur yang terdapat dalam set pengujian, yaitu X_test. Proses ini menggunakan parameter yang telah dioptimalkan selama pelatihan untuk menghitung nilai target yang diharapkan untuk setiap sampel dalam data pengujian. Hasil dari prediksi ini, yang disimpan dalam variabel y_pred, akan digunakan untuk mengevaluasi kinerja model dengan membandingkannya terhadap nilai target sebenarnya dari data pengujian. Dengan demikian, langkah ini merupakan tahap penting dalam proses analisis regresi, karena memungkinkan pengguna untuk mengetahui seberapa baik model dapat memprediksi hasil berdasarkan data yang belum pernah dilihat sebelumnya."
      ],
      "metadata": {
        "id": "3JZAoCwCmB8u"
      }
    },
    {
      "cell_type": "code",
      "source": [
        "y_pred = model.predict(X_test)"
      ],
      "metadata": {
        "id": "qDF2YFrYeP6i"
      },
      "execution_count": null,
      "outputs": []
    },
    {
      "cell_type": "markdown",
      "source": [
        "Kode ini digunakan untuk mengevaluasi kinerja model regresi linier dengan menghitung beberapa metrik penting. Pertama, `mean_squared_error(y_test, y_pred) `menghitung Mean Squared Error (MSE) antara nilai target sebenarnya (y_test) dan prediksi yang dihasilkan oleh model (y_pred). MSE memberikan ukuran seberapa besar kesalahan rata-rata kuadrat dari prediksi, dengan nilai yang lebih rendah menunjukkan model yang lebih baik. Selanjutnya,` np.sqrt(mse)` digunakan untuk menghitung Root Mean Squared Error (RMSE), yaitu akar kuadrat dari MSE, yang memberikan interpretasi yang lebih mudah terhadap kesalahan prediksi dalam satuan yang sama dengan variabel target. Akhirnya, r2_score(y_test, y_pred) menghitung koefisien determinasi (R²), yang menunjukkan seberapa baik model menjelaskan variasi dalam data; nilai R² berkisar antara 0 dan 1, di mana nilai yang lebih dekat ke 1 menunjukkan model yang lebih baik. Dengan tiga metrik ini, pengguna dapat menilai efektivitas model regresi yang telah dibangun."
      ],
      "metadata": {
        "id": "7rb-Ja35mWxO"
      }
    },
    {
      "cell_type": "code",
      "source": [
        "mse = mean_squared_error(y_test, y_pred)\n",
        "rmse = np.sqrt(mse)\n",
        "r_squared = r2_score(y_test, y_pred)"
      ],
      "metadata": {
        "id": "9p8abEaxeSRE"
      },
      "execution_count": null,
      "outputs": []
    },
    {
      "cell_type": "markdown",
      "source": [
        "Kode ini berfungsi untuk menampilkan hasil evaluasi dari model regresi linier yang telah dilatih. Dengan menggunakan fungsi `print()`, informasi mengenai kinerja model dicetak ke layar. Pertama, judul \"Regresi Linear biasa\" dicetak untuk menunjukkan jenis analisis yang sedang dilakukan. Selanjutnya, nilai Mean Squared Error (MSE) ditampilkan dengan format empat angka desimal menggunakan f-string, memberikan gambaran tentang seberapa besar kesalahan rata-rata kuadrat dari prediksi. Kemudian, Root Mean Squared Error (RMSE) juga ditampilkan dalam format yang sama, memberikan interpretasi yang lebih intuitif terhadap kesalahan dalam satuan yang sama dengan variabel target. Terakhir, koefisien determinasi (R²) dicetak untuk menunjukkan seberapa baik model menjelaskan variasi dalam data. Dengan menampilkan metrik-metrik ini, pengguna dapat dengan mudah mengevaluasi dan memahami kinerja model regresi linier yang telah dibangun."
      ],
      "metadata": {
        "id": "lp3fC-zVmo9h"
      }
    },
    {
      "cell_type": "code",
      "source": [
        "print(\"\\nRegresi Linear biasa\")\n",
        "print(f\"Linear Model - Mean Squared Error (MSE): {mse:.4f}\")\n",
        "print(f\"Linear Model - Root Mean Squared Error (RMSE): {rmse:.4f}\")\n",
        "print(f\"Linear Model - R-Squared (R²): {r_squared:.4f}\")"
      ],
      "metadata": {
        "id": "p4-DPJAMeUl5"
      },
      "execution_count": null,
      "outputs": []
    },
    {
      "cell_type": "markdown",
      "source": [
        "Kode ini melakukan analisis regresi polinomial dengan derajat yang ditentukan dan membandingkannya dengan regresi linier biasa. Pertama, derajat polinomial ditetapkan ke 2, dan objek PolynomialFeatures diinisialisasi dengan derajat tersebut. Metode `fit_transform(X)` kemudian digunakan untuk mengubah fitur-fitur dalam X menjadi fitur polinomial, yang menghasilkan matriks baru X_poly yang mencakup kombinasi polinomial dari fitur asli. Selanjutnya, dataset dibagi menjadi set pelatihan dan pengujian dengan menggunakan train_test_split, **dengan 80% data untuk pelatihan dan 20% untuk pengujian**. Model regresi linier diinisialisasi lagi dalam objek poly_model, dan dilatih menggunakan data polinomial pelatihan X_poly_train dan target y_train. Setelah model dilatih, prediksi dilakukan pada data pengujian menggunakan poly_model.predict`(X_poly_test)`, menghasilkan nilai prediksi y_poly_pred. Kode ini kemudian menghitung MSE, RMSE, dan R² untuk model polinomial dengan cara yang sama seperti sebelumnya. Hasil evaluasi dicetak ke layar, menunjukkan kinerja model polinomial dengan derajat yang ditentukan. Dengan langkah-langkah ini, pengguna dapat membandingkan efektivitas model regresi polinomial terhadap model regresi linier biasa."
      ],
      "metadata": {
        "id": "XxN9h-Qim5MM"
      }
    },
    {
      "cell_type": "code",
      "source": [
        "degree = 2\n",
        "poly = PolynomialFeatures(degree=degree)\n",
        "X_poly = poly.fit_transform(X)\n",
        "\n",
        "X_poly_train, X_poly_test, y_train, y_test = train_test_split(X_poly, y, test_size=0.2, random_state=42)\n",
        "\n",
        "poly_model = LinearRegression()\n",
        "poly_model.fit(X_poly_train, y_train)\n",
        "\n",
        "y_poly_pred = poly_model.predict(X_poly_test)\n",
        "\n",
        "mse_poly = mean_squared_error(y_test, y_poly_pred)\n",
        "rmse_poly = np.sqrt(mse_poly)\n",
        "r_squared_poly = r2_score(y_test, y_poly_pred)\n",
        "\n",
        "print(\"\\nRegresi Linear dengan basis fungsi\")\n",
        "print(f\"Polynomial Model (Degree {degree}) - Mean Squared Error (MSE): {mse_poly:.4f}\")\n",
        "print(f\"Polynomial Model (Degree {degree}) - Root Mean Squared Error (RMSE): {rmse_poly:.4f}\")\n",
        "print(f\"Polynomial Model (Degree {degree}) - R-Squared (R²): {r_squared_poly:.4f}\")"
      ],
      "metadata": {
        "id": "p3mc8s8teYVg"
      },
      "execution_count": null,
      "outputs": []
    },
    {
      "cell_type": "markdown",
      "source": [
        "Kode ini digunakan untuk memvisualisasikan perbandingan antara prediksi dari model regresi linier biasa dan model regresi polinomial. Pertama, indeks dari nilai target y_test diurutkan menggunakan `np.argsort(y_test)`, dan hasilnya digunakan untuk menyortir nilai-nilai y_test, y_pred, dan y_poly_pred agar sesuai dengan urutan yang sama. Selanjutnya, sebuah figure baru dengan ukuran 8x6 inci dibuat menggunakan `plt.figure()`. Kemudian, dua plot ditambahkan: yang pertama menunjukkan prediksi dari regresi linier biasa dengan garis merah, dan yang kedua menunjukkan prediksi dari regresi polinomial dengan garis hijau. Judul, label sumbu, dan grid ditambahkan untuk memperjelas informasi yang ditampilkan. Legenda juga ditambahkan untuk membedakan antara kedua model. Akhirnya, `plt.show()` digunakan untuk menampilkan visualisasi tersebut. Dengan cara ini, pengguna dapat dengan mudah membandingkan hasil prediksi dari kedua model dan melihat bagaimana model polinomial mungkin lebih baik dalam menangkap pola dalam data."
      ],
      "metadata": {
        "id": "QcEaGIsZm6Wh"
      }
    },
    {
      "cell_type": "code",
      "source": [
        "sorted_idx = np.argsort(y_test)\n",
        "y_test_sorted = y_test.iloc[sorted_idx]\n",
        "y_pred_sorted = y_pred[sorted_idx]\n",
        "y_poly_pred_sorted = y_poly_pred[sorted_idx]\n",
        "\n",
        "plt.figure(figsize=(8, 6))\n",
        "\n",
        "plt.plot(X_test, y_pred, label=\"Prediksi Regresi Linear Biasa\", linestyle='-', color='red', linewidth=2)\n",
        "plt.plot(X_test, y_poly_pred, label=\"Prediksi Regresi Polinomial\", linestyle='-', color='green', linewidth=2)\n",
        "\n",
        "plt.title(\"Perbandingan Regresi Linear Biasa dan Regresi Linear dengan Basis Fungsi\", fontsize=12)\n",
        "plt.xlabel(\"Fitur (x)\", fontsize=12)\n",
        "plt.ylabel(\"Target (combined_data)\", fontsize=12)\n",
        "\n",
        "plt.grid(True)\n",
        "\n",
        "plt.legend(loc='best')\n",
        "\n",
        "plt.show()"
      ],
      "metadata": {
        "id": "bkP_do-CebU8"
      },
      "execution_count": null,
      "outputs": []
    }
  ]
}