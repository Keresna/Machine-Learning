{
  "nbformat": 4,
  "nbformat_minor": 0,
  "metadata": {
    "colab": {
      "provenance": []
    },
    "kernelspec": {
      "name": "python3",
      "display_name": "Python 3"
    },
    "language_info": {
      "name": "python"
    }
  },
  "cells": [
    {
      "cell_type": "markdown",
      "source": [
        "### Klasifikasi model (Logistics model) dengan dataset CitarumWater.csv"
      ],
      "metadata": {
        "id": "JMVbuNAEq5Wx"
      }
    },
    {
      "cell_type": "markdown",
      "source": [
        "Kode yang diberikan bertujuan untuk mempersiapkan analisis klasifikasi menggunakan regresi logistik dengan memanfaatkan dataset yang diunggah. Pertama, beberapa library penting diimpor, termasuk pandas untuk manipulasi data, sklearn untuk model klasifikasi dan evaluasi, serta matplotlib untuk visualisasi. Setelah itu, pengguna diizinkan untuk mengunggah file CSV yang berisi dataset melalui Google Colab dengan menggunakan `files.upload()`. Dataset yang diunggah kemudian dimuat ke dalam DataFrame df menggunakan `pd.read_csv`. Setelah memuat data, kode ini mencetak lima baris pertama dari DataFrame dengan `df.head()` untuk memberikan gambaran awal tentang struktur dan isi dataset. Langkah-langkah ini mempersiapkan pengguna untuk melakukan pemrosesan lebih lanjut, seperti pengkodean label, membagi data, dan melatih model klasifikasi."
      ],
      "metadata": {
        "id": "U3mDcMzGozY9"
      }
    },
    {
      "cell_type": "code",
      "source": [
        "import pandas as pd\n",
        "from sklearn.model_selection import train_test_split\n",
        "from sklearn.preprocessing import LabelEncoder\n",
        "from sklearn.linear_model import LogisticRegression\n",
        "from sklearn.metrics import accuracy_score, precision_score, recall_score, f1_score, roc_curve, auc\n",
        "import matplotlib.pyplot as plt\n",
        "from google.colab import files\n",
        "\n",
        "uploaded = files.upload()\n",
        "df = pd.read_csv('CitarumWater.csv')\n",
        "\n",
        "print(df.head())"
      ],
      "metadata": {
        "colab": {
          "base_uri": "https://localhost:8080/",
          "height": 298
        },
        "id": "RztBFqGC0ROy",
        "outputId": "b88c8215-7ca7-4233-8229-ed6a6ea38164"
      },
      "execution_count": 1,
      "outputs": [
        {
          "output_type": "display_data",
          "data": {
            "text/plain": [
              "<IPython.core.display.HTML object>"
            ],
            "text/html": [
              "\n",
              "     <input type=\"file\" id=\"files-b49dcf2c-264f-4a9b-bcaf-af67c26c117d\" name=\"files[]\" multiple disabled\n",
              "        style=\"border:none\" />\n",
              "     <output id=\"result-b49dcf2c-264f-4a9b-bcaf-af67c26c117d\">\n",
              "      Upload widget is only available when the cell has been executed in the\n",
              "      current browser session. Please rerun this cell to enable.\n",
              "      </output>\n",
              "      <script>// Copyright 2017 Google LLC\n",
              "//\n",
              "// Licensed under the Apache License, Version 2.0 (the \"License\");\n",
              "// you may not use this file except in compliance with the License.\n",
              "// You may obtain a copy of the License at\n",
              "//\n",
              "//      http://www.apache.org/licenses/LICENSE-2.0\n",
              "//\n",
              "// Unless required by applicable law or agreed to in writing, software\n",
              "// distributed under the License is distributed on an \"AS IS\" BASIS,\n",
              "// WITHOUT WARRANTIES OR CONDITIONS OF ANY KIND, either express or implied.\n",
              "// See the License for the specific language governing permissions and\n",
              "// limitations under the License.\n",
              "\n",
              "/**\n",
              " * @fileoverview Helpers for google.colab Python module.\n",
              " */\n",
              "(function(scope) {\n",
              "function span(text, styleAttributes = {}) {\n",
              "  const element = document.createElement('span');\n",
              "  element.textContent = text;\n",
              "  for (const key of Object.keys(styleAttributes)) {\n",
              "    element.style[key] = styleAttributes[key];\n",
              "  }\n",
              "  return element;\n",
              "}\n",
              "\n",
              "// Max number of bytes which will be uploaded at a time.\n",
              "const MAX_PAYLOAD_SIZE = 100 * 1024;\n",
              "\n",
              "function _uploadFiles(inputId, outputId) {\n",
              "  const steps = uploadFilesStep(inputId, outputId);\n",
              "  const outputElement = document.getElementById(outputId);\n",
              "  // Cache steps on the outputElement to make it available for the next call\n",
              "  // to uploadFilesContinue from Python.\n",
              "  outputElement.steps = steps;\n",
              "\n",
              "  return _uploadFilesContinue(outputId);\n",
              "}\n",
              "\n",
              "// This is roughly an async generator (not supported in the browser yet),\n",
              "// where there are multiple asynchronous steps and the Python side is going\n",
              "// to poll for completion of each step.\n",
              "// This uses a Promise to block the python side on completion of each step,\n",
              "// then passes the result of the previous step as the input to the next step.\n",
              "function _uploadFilesContinue(outputId) {\n",
              "  const outputElement = document.getElementById(outputId);\n",
              "  const steps = outputElement.steps;\n",
              "\n",
              "  const next = steps.next(outputElement.lastPromiseValue);\n",
              "  return Promise.resolve(next.value.promise).then((value) => {\n",
              "    // Cache the last promise value to make it available to the next\n",
              "    // step of the generator.\n",
              "    outputElement.lastPromiseValue = value;\n",
              "    return next.value.response;\n",
              "  });\n",
              "}\n",
              "\n",
              "/**\n",
              " * Generator function which is called between each async step of the upload\n",
              " * process.\n",
              " * @param {string} inputId Element ID of the input file picker element.\n",
              " * @param {string} outputId Element ID of the output display.\n",
              " * @return {!Iterable<!Object>} Iterable of next steps.\n",
              " */\n",
              "function* uploadFilesStep(inputId, outputId) {\n",
              "  const inputElement = document.getElementById(inputId);\n",
              "  inputElement.disabled = false;\n",
              "\n",
              "  const outputElement = document.getElementById(outputId);\n",
              "  outputElement.innerHTML = '';\n",
              "\n",
              "  const pickedPromise = new Promise((resolve) => {\n",
              "    inputElement.addEventListener('change', (e) => {\n",
              "      resolve(e.target.files);\n",
              "    });\n",
              "  });\n",
              "\n",
              "  const cancel = document.createElement('button');\n",
              "  inputElement.parentElement.appendChild(cancel);\n",
              "  cancel.textContent = 'Cancel upload';\n",
              "  const cancelPromise = new Promise((resolve) => {\n",
              "    cancel.onclick = () => {\n",
              "      resolve(null);\n",
              "    };\n",
              "  });\n",
              "\n",
              "  // Wait for the user to pick the files.\n",
              "  const files = yield {\n",
              "    promise: Promise.race([pickedPromise, cancelPromise]),\n",
              "    response: {\n",
              "      action: 'starting',\n",
              "    }\n",
              "  };\n",
              "\n",
              "  cancel.remove();\n",
              "\n",
              "  // Disable the input element since further picks are not allowed.\n",
              "  inputElement.disabled = true;\n",
              "\n",
              "  if (!files) {\n",
              "    return {\n",
              "      response: {\n",
              "        action: 'complete',\n",
              "      }\n",
              "    };\n",
              "  }\n",
              "\n",
              "  for (const file of files) {\n",
              "    const li = document.createElement('li');\n",
              "    li.append(span(file.name, {fontWeight: 'bold'}));\n",
              "    li.append(span(\n",
              "        `(${file.type || 'n/a'}) - ${file.size} bytes, ` +\n",
              "        `last modified: ${\n",
              "            file.lastModifiedDate ? file.lastModifiedDate.toLocaleDateString() :\n",
              "                                    'n/a'} - `));\n",
              "    const percent = span('0% done');\n",
              "    li.appendChild(percent);\n",
              "\n",
              "    outputElement.appendChild(li);\n",
              "\n",
              "    const fileDataPromise = new Promise((resolve) => {\n",
              "      const reader = new FileReader();\n",
              "      reader.onload = (e) => {\n",
              "        resolve(e.target.result);\n",
              "      };\n",
              "      reader.readAsArrayBuffer(file);\n",
              "    });\n",
              "    // Wait for the data to be ready.\n",
              "    let fileData = yield {\n",
              "      promise: fileDataPromise,\n",
              "      response: {\n",
              "        action: 'continue',\n",
              "      }\n",
              "    };\n",
              "\n",
              "    // Use a chunked sending to avoid message size limits. See b/62115660.\n",
              "    let position = 0;\n",
              "    do {\n",
              "      const length = Math.min(fileData.byteLength - position, MAX_PAYLOAD_SIZE);\n",
              "      const chunk = new Uint8Array(fileData, position, length);\n",
              "      position += length;\n",
              "\n",
              "      const base64 = btoa(String.fromCharCode.apply(null, chunk));\n",
              "      yield {\n",
              "        response: {\n",
              "          action: 'append',\n",
              "          file: file.name,\n",
              "          data: base64,\n",
              "        },\n",
              "      };\n",
              "\n",
              "      let percentDone = fileData.byteLength === 0 ?\n",
              "          100 :\n",
              "          Math.round((position / fileData.byteLength) * 100);\n",
              "      percent.textContent = `${percentDone}% done`;\n",
              "\n",
              "    } while (position < fileData.byteLength);\n",
              "  }\n",
              "\n",
              "  // All done.\n",
              "  yield {\n",
              "    response: {\n",
              "      action: 'complete',\n",
              "    }\n",
              "  };\n",
              "}\n",
              "\n",
              "scope.google = scope.google || {};\n",
              "scope.google.colab = scope.google.colab || {};\n",
              "scope.google.colab._files = {\n",
              "  _uploadFiles,\n",
              "  _uploadFilesContinue,\n",
              "};\n",
              "})(self);\n",
              "</script> "
            ]
          },
          "metadata": {}
        },
        {
          "output_type": "stream",
          "name": "stdout",
          "text": [
            "Saving CitarumWater.csv to CitarumWater.csv\n",
            "   No NamaSungai             TitikPantau       Waktu    pH     Temp   TSS  \\\n",
            "0   1    Citarum             Wangisagara  18/04/2018  7.57  25.55°C  11.0   \n",
            "1   2    Citarum                   Koyod  18/04/2018  7.69  25.55°C  13.0   \n",
            "2   3    Citarum   Setelah IPAL Cisirung  18/04/2018  7.39  25.55°C  15.0   \n",
            "3   4    Citarum                 Nanjung  18/04/2018  7.49  25.55°C  17.0   \n",
            "4   5    Citarum  Outlet Waduk Jatiluhur  18/04/2018  7.17  25.55°C   6.0   \n",
            "\n",
            "     DO   BOD    COD  Nitrat  FecalColiform  Fosfat O2    IP  Class  \n",
            "0  6.11  3.30   6.10    1.08        17000.0   0.043  -  5.12      3  \n",
            "1  6.20  5.31  12.50    1.85        28000.0   0.011  -  5.91      3  \n",
            "2  3.61  7.40  23.50    1.25        90000.0   0.230  -  7.76      3  \n",
            "3  3.17  8.13  27.50    1.21       300000.0   0.057  -  9.61      3  \n",
            "4  6.82  2.89   5.44    1.04         3000.0   0.110  -  2.44      2  \n"
          ]
        }
      ]
    },
    {
      "cell_type": "markdown",
      "source": [
        "Kode ini berfungsi untuk memeriksa dan mempersiapkan dataset untuk analisis klasifikasi dengan melakukan beberapa langkah pemrosesan data. Pertama, df.dtypes digunakan untuk menampilkan tipe data dari setiap kolom dalam DataFrame df, memberikan informasi mengenai jenis data yang ada. Selanjutnya, baris yang mengandung nilai kosong (NaN) dihapus dari DataFrame dengan menggunakan `df.dropna()`, sehingga hanya baris yang lengkap yang akan digunakan dalam analisis, menghindari potensi masalah yang disebabkan oleh data yang hilang. Kemudian, objek LabelEncoder diinisialisasi untuk mengonversi kolom-kolom yang berisi data kategorikal menjadi format numerik, yang diperlukan untuk model klasifikasi. Dengan menggunakan loop, setiap kolom dalam DataFrame diperiksa; jika kolom tersebut memiliki tipe data objek *(yang biasanya menunjukkan data kategorikal)*, maka kolom tersebut diubah menjadi format numerik dengan metode `fit_transform()`. Langkah-langkah ini memastikan bahwa data siap untuk digunakan dalam model klasifikasi, seperti regresi logistik, dengan semua fitur dalam format yang sesuai."
      ],
      "metadata": {
        "id": "T-PJqR31pE9I"
      }
    },
    {
      "cell_type": "code",
      "source": [
        "print(df.dtypes)\n",
        "\n",
        "df = df.dropna()\n",
        "\n",
        "le = LabelEncoder()\n",
        "\n",
        "for col in df.columns:\n",
        "    if df[col].dtype == 'object':\n",
        "        df[col] = le.fit_transform(df[col])"
      ],
      "metadata": {
        "id": "ie88eTI0fK1O"
      },
      "execution_count": null,
      "outputs": []
    },
    {
      "cell_type": "markdown",
      "source": [
        "Kode ini bertujuan untuk mempersiapkan data untuk model klasifikasi dengan memisahkan fitur dan target, serta membagi dataset menjadi set pelatihan dan pengujian. Pertama, variabel X didefinisikan dengan menghapus kolom 'Class' dari DataFrame df menggunakan `df.drop('Class', axis=1)`, sehingga X berisi semua fitur yang akan digunakan untuk memprediksi kelas target. Variabel y diisi dengan kolom 'Class', yang merupakan label atau target yang ingin diprediksi. Selanjutnya, dataset dibagi menjadi set pelatihan dan pengujian menggunakan fungsi train_test_split,** di mana 80% dari data digunakan untuk pelatihan (X_train dan y_train) dan 20% untuk pengujian (X_test dan y_test)**. Parameter `random_state=42` digunakan untuk memastikan bahwa pembagian data ini dapat direproduksi di masa mendatang. Dengan langkah-langkah ini, data siap untuk digunakan dalam melatih model klasifikasi dan mengevaluasi kinerjanya."
      ],
      "metadata": {
        "id": "Cg4wQEPwpVBN"
      }
    },
    {
      "cell_type": "code",
      "source": [
        "X = df.drop('Class', axis=1)\n",
        "y = df['Class']\n",
        "\n",
        "X_train, X_test, y_train, y_test = train_test_split(X, y, test_size=0.2, random_state=42)"
      ],
      "metadata": {
        "id": "zxrk-EugfOjz"
      },
      "execution_count": null,
      "outputs": []
    },
    {
      "cell_type": "markdown",
      "source": [
        "Kode ini digunakan untuk melatih model klasifikasi menggunakan regresi logistik dengan dataset yang telah dipersiapkan sebelumnya. Pertama, objek clf dibuat dengan menginisialisasi kelas `LogisticRegression()` dari pustaka sklearn, di mana **parameter** `max_iter=10000` ditetapkan untuk memastikan bahwa model memiliki cukup iterasi untuk konvergensi saat dilatih. Kemudian, metode `fit(X_train, y_train)` dipanggil pada objek clf, di mana X_train berisi fitur-fitur dari data pelatihan dan y_train berisi label target yang sesuai. Proses ini memungkinkan model untuk belajar dari data pelatihan, mengidentifikasi pola yang ada, dan mengoptimalkan parameter internalnya untuk memprediksi kelas target. Setelah langkah ini, model regresi logistik siap digunakan untuk membuat prediksi pada data baru atau data pengujian."
      ],
      "metadata": {
        "id": "wqJF3YBBprVu"
      }
    },
    {
      "cell_type": "code",
      "source": [
        "clf = LogisticRegression(max_iter=10000)\n",
        "clf.fit(X_train, y_train)"
      ],
      "metadata": {
        "id": "Q9xQvIW5fRXp"
      },
      "execution_count": null,
      "outputs": []
    },
    {
      "cell_type": "markdown",
      "source": [
        "Kode ini digunakan untuk menghasilkan prediksi dari model regresi logistik yang telah dilatih sebelumnya. Pertama, `metode predict(X_test)` dipanggil pada objek clf untuk menghasilkan prediksi kelas untuk data pengujian, dengan hasil disimpan dalam variabel y_pred. Nilai-nilai ini merepresentasikan kelas yang diprediksi berdasarkan fitur-fitur dalam X_test. Selanjutnya, metode `predict_proba(X_test)` digunakan untuk mendapatkan probabilitas prediksi untuk setiap kelas, di mana `[:, 1]` digunakan untuk mengambil probabilitas dari kelas positif `(kelas dengan indeks 1)`. Hasil ini disimpan dalam variabel y_pred_proba, yang akan berguna untuk evaluasi lebih lanjut, seperti menghitung metrik kinerja yang melibatkan probabilitas, seperti kurva ROC dan nilai AUC. Dengan langkah-langkah ini, pengguna dapat mengevaluasi seberapa baik model melakukan klasifikasi pada data yang belum pernah dilihat sebelumnya."
      ],
      "metadata": {
        "id": "Fl4Ftcpcp8ZP"
      }
    },
    {
      "cell_type": "code",
      "source": [
        "y_pred = clf.predict(X_test)\n",
        "y_pred_proba = clf.predict_proba(X_test)[:, 1]"
      ],
      "metadata": {
        "id": "etcStkXcfToh"
      },
      "execution_count": null,
      "outputs": []
    },
    {
      "cell_type": "markdown",
      "source": [
        "Kode ini digunakan untuk mengevaluasi kinerja model klasifikasi yang telah dilatih dengan menghitung beberapa metrik penting. Pertama, `accuracy_score(y_test, y_pred)` digunakan untuk menghitung akurasi, yang merupakan proporsi prediksi yang benar dari seluruh data pengujian. Selanjutnya, metrik presisi dihitung dengan menggunakan `precision_score(y_test, y_pred, average='weighted')`, yang memberikan rasio prediksi positif yang benar dibandingkan dengan seluruh prediksi positif, dengan bobot berdasarkan jumlah masing-masing kelas. Demikian pula, `recall_score(y_test, y_pred, average='weighted')` menghitung recall, yang merupakan rasio prediksi positif yang benar dibandingkan dengan seluruh instance positif sebenarnya. Terakhir, `f1_score(y_test, y_pred, average='weighted')` menghitung nilai F1, yang merupakan rata-rata harmonis dari presisi dan recall, memberikan satu metrik tunggal yang mempertimbangkan kedua aspek tersebut. Dengan menghitung metrik-metrik ini, pengguna dapat menilai seberapa efektif model dalam klasifikasi dan memahami trade-off antara presisi dan recall."
      ],
      "metadata": {
        "id": "M_458TW6qLlE"
      }
    },
    {
      "cell_type": "code",
      "source": [
        "accuracy = accuracy_score(y_test, y_pred)\n",
        "precision = precision_score(y_test, y_pred, average='weighted')\n",
        "recall = recall_score(y_test, y_pred, average='weighted')\n",
        "f1 = f1_score(y_test, y_pred, average='weighted')"
      ],
      "metadata": {
        "id": "OwFKU42kfV22"
      },
      "execution_count": null,
      "outputs": []
    },
    {
      "cell_type": "markdown",
      "source": [
        "Kode ini bertujuan untuk menampilkan hasil evaluasi kinerja model klasifikasi dengan mencetak beberapa metrik yang telah dihitung sebelumnya. Menggunakan fungsi `print()`, setiap metrik—akurasi, presisi, recall, dan nilai F1—dijelaskan dengan format yang jelas dan mudah dibaca, di mana nilai masing-masing metrik ditampilkan dengan empat angka desimal. Dengan menampilkan informasi ini, pengguna dapat dengan cepat memahami seberapa baik model dalam mengklasifikasikan data pengujian. Akurasi memberikan gambaran umum tentang proporsi prediksi yang benar, sedangkan presisi dan recall memberikan wawasan lebih dalam tentang kinerja model dalam menangani kelas positif. Nilai F1 menggabungkan kedua metrik tersebut, sehingga memberikan ukuran yang seimbang antara presisi dan recall. Dengan cara ini, pengguna dapat mengevaluasi efektivitas model secara keseluruhan dan membuat keputusan yang lebih baik terkait penerapan model dalam konteks yang lebih luas."
      ],
      "metadata": {
        "id": "-grf40dWqWSx"
      }
    },
    {
      "cell_type": "code",
      "source": [
        "print(f\"Accuracy: {accuracy:.4f}\")\n",
        "print(f\"Precision: {precision:.4f}\")\n",
        "print(f\"Recall: {recall:.4f}\")\n",
        "print(f\"F1 Score: {f1:.4f}\")"
      ],
      "metadata": {
        "id": "uvOnwRbMfYeL"
      },
      "execution_count": null,
      "outputs": []
    },
    {
      "cell_type": "markdown",
      "source": [
        "Kode ini digunakan untuk menghitung kurva **Receiver Operating Characteristic (ROC) dan Area Under the Curve (AUC)** untuk model klasifikasi yang telah dilatih. Pertama, fungsi `roc_curve(y_test, y_pred_proba, pos_label=1)` digunakan untuk menghitung *false positive rate (fpr), true positive rate (tpr), dan threshold yang berbeda berdasarkan probabilitas prediksi kelas positif (y_pred_proba)*. Di sini, `pos_label=1` menunjukkan bahwa kelas positif adalah label 1. Dengan nilai-nilai fpr dan tpr yang diperoleh, AUC dihitung menggunakan fungsi auc(fpr, tpr), yang memberikan ukuran seberapa baik model dapat memisahkan antara kelas positif dan negatif. Nilai AUC berkisar antara 0 hingga 1, di mana nilai yang lebih tinggi menunjukkan bahwa model memiliki kemampuan yang lebih baik dalam membedakan antara kedua kelas. Dengan langkah-langkah ini, pengguna dapat mengevaluasi kinerja model secara visual dan numerik, serta membandingkannya dengan model lain berdasarkan kemampuan klasifikasi mereka."
      ],
      "metadata": {
        "id": "2LTq9Rvfqk2O"
      }
    },
    {
      "cell_type": "code",
      "source": [
        "fpr, tpr, thresholds = roc_curve(y_test, y_pred_proba, pos_label=1)\n",
        "roc_auc = auc(fpr, tpr)"
      ],
      "metadata": {
        "id": "NyRy_uivfaj1"
      },
      "execution_count": null,
      "outputs": []
    },
    {
      "cell_type": "markdown",
      "source": [
        "Kode ini digunakan untuk memvisualisasikan kurva Receiver Operating Characteristic (ROC) sebagai alat evaluasi untuk model klasifikasi yang telah dilatih. Pertama, sebuah figure baru dengan ukuran 8x6 inci dibuat menggunakan plt.figure(). Kemudian, kurva ROC digambar dengan memplot true positive rate (TPR) terhadap false positive rate (FPR) menggunakan plt.plot(), di mana warna garis ditetapkan merah, lebar garis 2, dan label mencantumkan nilai AUC yang telah dihitung sebelumnya. Sebagai referensi, garis diagonal yang menunjukkan kinerja acak digambar dengan menggunakan` plt.plot([0, 1], [0, 1], ...)`, yang akan membentuk garis putus-putus. Setelah itu, batas sumbu x dan y diatur untuk memastikan bahwa grafik berada dalam rentang 0 hingga 1. Label sumbu x dan y, serta judul grafik ditambahkan untuk memberikan konteks yang jelas. Legenda juga disertakan di sudut kanan bawah untuk mengidentifikasi kurva ROC. Akhirnya, plt.show() digunakan untuk menampilkan grafik tersebut. Dengan visualisasi ini, pengguna dapat dengan mudah menilai kinerja model dalam membedakan antara kelas positif dan negatif berdasarkan probabilitas prediksi."
      ],
      "metadata": {
        "id": "riNgbt15qvIN"
      }
    },
    {
      "cell_type": "code",
      "source": [
        "plt.figure(figsize=(8, 6))\n",
        "plt.plot(fpr, tpr, color='red', lw=2, label=f'ROC curve (AUC = {roc_auc:.2f})')\n",
        "plt.plot([0, 1], [0, 1], color='navy', lw=2, linestyle='--')\n",
        "plt.xlim([0.0, 1.0])\n",
        "plt.ylim([0.0, 1.05])\n",
        "plt.xlabel('False Positive Rate')\n",
        "plt.ylabel('True Positive Rate')\n",
        "plt.title('Receiver Operating Characteristic (ROC) Curve')\n",
        "plt.legend(loc=\"lower right\")\n",
        "plt.show()"
      ],
      "metadata": {
        "id": "p0Isnyhvfc-d"
      },
      "execution_count": null,
      "outputs": []
    }
  ]
}