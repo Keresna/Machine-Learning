{
  "nbformat": 4,
  "nbformat_minor": 0,
  "metadata": {
    "colab": {
      "provenance": []
    },
    "kernelspec": {
      "name": "python3",
      "display_name": "Python 3"
    },
    "language_info": {
      "name": "python"
    }
  },
  "cells": [
    {
      "cell_type": "code",
      "source": [
        "import itertools\n",
        "import numpy as np\n",
        "import pandas as pd\n",
        "import torch\n",
        "import torch.nn as nn\n",
        "import torch.optim as optim\n",
        "from sklearn.model_selection import train_test_split\n",
        "from sklearn.preprocessing import LabelEncoder, StandardScaler\n",
        "from sklearn.metrics import accuracy_score"
      ],
      "metadata": {
        "id": "de23ijNCFNq4"
      },
      "execution_count": 1,
      "outputs": []
    },
    {
      "cell_type": "code",
      "source": [
        "# Load Iris dataset\n",
        "data = pd.read_csv('/content/drive/MyDrive/Dataset/Iris.csv')\n",
        "X = data.iloc[:, :-1].values\n",
        "y = data.iloc[:, -1].values\n",
        "\n",
        "# Encode target labels\n",
        "label_encoder = LabelEncoder()\n",
        "y = label_encoder.fit_transform(y)\n",
        "\n",
        "# Train-test split\n",
        "X_train, X_test, y_train, y_test = train_test_split(X, y, test_size=0.2, random_state=42, stratify=y)\n",
        "\n",
        "# Scale features\n",
        "scaler = StandardScaler()\n",
        "X_train = scaler.fit_transform(X_train)\n",
        "X_test = scaler.transform(X_test)"
      ],
      "metadata": {
        "id": "7Y099FVjFZN9"
      },
      "execution_count": 2,
      "outputs": []
    },
    {
      "cell_type": "code",
      "execution_count": 3,
      "metadata": {
        "colab": {
          "base_uri": "https://localhost:8080/"
        },
        "id": "tGbg-SuoEv49",
        "outputId": "4951e48f-6b1e-4336-8b85-b39d26be067f"
      },
      "outputs": [
        {
          "output_type": "stream",
          "name": "stdout",
          "text": [
            "Experiment completed. Results saved to 'mlp_iris_results.csv'.\n"
          ]
        }
      ],
      "source": [
        "# Convert data to PyTorch tensors\n",
        "X_train_tensor = torch.tensor(X_train, dtype=torch.float32)\n",
        "y_train_tensor = torch.tensor(y_train, dtype=torch.long)\n",
        "X_test_tensor = torch.tensor(X_test, dtype=torch.float32)\n",
        "y_test_tensor = torch.tensor(y_test, dtype=torch.long)\n",
        "\n",
        "# Define MLP Model class\n",
        "def create_mlp(input_size, hidden_layers, activation_fn, num_classes):\n",
        "    layers = []\n",
        "    current_size = input_size\n",
        "\n",
        "    # Add hidden layers\n",
        "    for layer_size in hidden_layers:\n",
        "        layers.append(nn.Linear(current_size, layer_size))\n",
        "        layers.append(activation_fn())\n",
        "        current_size = layer_size\n",
        "\n",
        "    # Add output layer\n",
        "    layers.append(nn.Linear(current_size, num_classes))\n",
        "    return nn.Sequential(*layers)\n",
        "\n",
        "# Define parameter grid\n",
        "hidden_layers_list = [[4], [8], [16], [32], [64], [4, 4], [16, 16], [32, 32], [64, 64], [4, 4, 4]]\n",
        "activations = [nn.Identity, nn.Sigmoid, nn.ReLU, nn.Tanh]  # Softmax is usually applied to outputs for classification\n",
        "num_epochs_list = [1, 10, 25, 50, 100, 250]\n",
        "learning_rates = [10, 1, 0.1, 0.01, 0.001, 0.0001]\n",
        "batch_sizes = [16, 32, 64, 128, 256, 512]\n",
        "\n",
        "# Hyperparameter combinations\n",
        "param_grid = list(itertools.product(hidden_layers_list, activations, num_epochs_list, learning_rates, batch_sizes))\n",
        "\n",
        "# Train and evaluate MLP model\n",
        "def train_and_evaluate(hidden_layers, activation_fn, num_epochs, learning_rate, batch_size):\n",
        "    input_size = X_train.shape[1]\n",
        "    num_classes = len(np.unique(y))\n",
        "    model = create_mlp(input_size, hidden_layers, activation_fn, num_classes)\n",
        "\n",
        "    # Loss and optimizer\n",
        "    criterion = nn.CrossEntropyLoss()\n",
        "    optimizer = optim.Adam(model.parameters(), lr=learning_rate)\n",
        "\n",
        "    # Training loop\n",
        "    dataset = torch.utils.data.TensorDataset(X_train_tensor, y_train_tensor)\n",
        "    dataloader = torch.utils.data.DataLoader(dataset, batch_size=batch_size, shuffle=True)\n",
        "\n",
        "    for epoch in range(num_epochs):\n",
        "        model.train()\n",
        "        for batch_X, batch_y in dataloader:\n",
        "            optimizer.zero_grad()\n",
        "            outputs = model(batch_X)\n",
        "            loss = criterion(outputs, batch_y)\n",
        "            loss.backward()\n",
        "            optimizer.step()\n",
        "\n",
        "    # Evaluate model\n",
        "    model.eval()\n",
        "    with torch.no_grad():\n",
        "        y_pred = model(X_test_tensor).argmax(axis=1).numpy()\n",
        "    accuracy = accuracy_score(y_test, y_pred)\n",
        "    return accuracy\n",
        "\n",
        "# Test all configurations\n",
        "results = []\n",
        "for params in param_grid:\n",
        "    hidden_layers, activation_fn, num_epochs, learning_rate, batch_size = params\n",
        "    accuracy = train_and_evaluate(hidden_layers, activation_fn, num_epochs, learning_rate, batch_size)\n",
        "    results.append((hidden_layers, activation_fn.__name__, num_epochs, learning_rate, batch_size, accuracy))\n",
        "\n",
        "# Save results\n",
        "results_df = pd.DataFrame(results, columns=['Hidden Layers', 'Activation', 'Epochs', 'Learning Rate', 'Batch Size', 'Accuracy'])\n",
        "results_df.to_csv('mlp_iris_results.csv', index=False)\n",
        "\n",
        "print(\"Experiment completed. Results saved to 'mlp_iris_results.csv'.\")\n"
      ]
    },
    {
      "cell_type": "code",
      "source": [
        "import os\n",
        "print(os.getcwd())"
      ],
      "metadata": {
        "colab": {
          "base_uri": "https://localhost:8080/"
        },
        "id": "jnB6QQeBS2US",
        "outputId": "d308717c-dda4-4dee-d731-c54896e5007e"
      },
      "execution_count": 5,
      "outputs": [
        {
          "output_type": "stream",
          "name": "stdout",
          "text": [
            "/content\n"
          ]
        }
      ]
    },
    {
      "cell_type": "code",
      "source": [
        "results_df.to_csv('/content/drive/MyDrive/Dataset/mlp_iris_results.csv', index=False)"
      ],
      "metadata": {
        "id": "9QS2I3_RTFJ-"
      },
      "execution_count": 7,
      "outputs": []
    }
  ]
}