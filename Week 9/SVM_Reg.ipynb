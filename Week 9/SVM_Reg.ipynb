{
  "nbformat": 4,
  "nbformat_minor": 0,
  "metadata": {
    "colab": {
      "provenance": []
    },
    "kernelspec": {
      "name": "python3",
      "display_name": "Python 3"
    },
    "language_info": {
      "name": "python"
    }
  },
  "cells": [
    {
      "cell_type": "code",
      "source": [
        "# Load Dataset\n",
        "from google.colab import drive\n",
        "drive.mount('/content/drive')"
      ],
      "metadata": {
        "colab": {
          "base_uri": "https://localhost:8080/"
        },
        "id": "aZUuXSUQ6qZ1",
        "outputId": "81d3e508-64c8-465c-f3bd-f1c78d8d81a2"
      },
      "execution_count": 15,
      "outputs": [
        {
          "output_type": "stream",
          "name": "stdout",
          "text": [
            "Drive already mounted at /content/drive; to attempt to forcibly remount, call drive.mount(\"/content/drive\", force_remount=True).\n"
          ]
        }
      ]
    },
    {
      "cell_type": "code",
      "source": [
        "# Import library\n",
        "import pandas as pd\n",
        "import numpy as np\n",
        "from sklearn.model_selection import train_test_split\n",
        "from sklearn.preprocessing import StandardScaler\n",
        "from sklearn.svm import SVR\n",
        "from sklearn.metrics import mean_squared_error, mean_absolute_error, r2_score\n",
        "from sklearn.svm import SVC\n",
        "from sklearn.metrics import roc_curve, auc\n",
        "import matplotlib.pyplot as plt"
      ],
      "metadata": {
        "id": "sF_bbbBq6yD-"
      },
      "execution_count": 16,
      "outputs": []
    },
    {
      "cell_type": "code",
      "source": [
        "# Path ke dataset\n",
        "file_path = '/content/drive/MyDrive/Dataset/CreditDataset.csv'\n",
        "\n",
        "# Membaca dataset\n",
        "df = pd.read_csv(file_path)\n",
        "print(\"Dataset berhasil dibaca!\")\n",
        "print(\"Ukuran dataset:\", df.shape)\n",
        "print(df.info())"
      ],
      "metadata": {
        "colab": {
          "base_uri": "https://localhost:8080/"
        },
        "id": "CHjM5WU49-y3",
        "outputId": "9962d3eb-deb8-45e9-8739-24dfd7cdb96d"
      },
      "execution_count": 17,
      "outputs": [
        {
          "output_type": "stream",
          "name": "stdout",
          "text": [
            "Dataset berhasil dibaca!\n",
            "Ukuran dataset: (1000, 21)\n",
            "<class 'pandas.core.frame.DataFrame'>\n",
            "RangeIndex: 1000 entries, 0 to 999\n",
            "Data columns (total 21 columns):\n",
            " #   Column  Non-Null Count  Dtype \n",
            "---  ------  --------------  ----- \n",
            " 0   x1      1000 non-null   object\n",
            " 1   x2      1000 non-null   int64 \n",
            " 2   x3      1000 non-null   object\n",
            " 3   x4      1000 non-null   object\n",
            " 4   x5      1000 non-null   int64 \n",
            " 5   x6      1000 non-null   object\n",
            " 6   x7      1000 non-null   object\n",
            " 7   x8      1000 non-null   int64 \n",
            " 8   x9      1000 non-null   object\n",
            " 9   x10     1000 non-null   object\n",
            " 10  x11     1000 non-null   int64 \n",
            " 11  x12     1000 non-null   object\n",
            " 12  x13     1000 non-null   int64 \n",
            " 13  x14     1000 non-null   object\n",
            " 14  x15     1000 non-null   object\n",
            " 15  x16     1000 non-null   int64 \n",
            " 16  x17     1000 non-null   object\n",
            " 17  x18     1000 non-null   int64 \n",
            " 18  x19     1000 non-null   object\n",
            " 19  x20     1000 non-null   object\n",
            " 20  Class   1000 non-null   int64 \n",
            "dtypes: int64(8), object(13)\n",
            "memory usage: 164.2+ KB\n",
            "None\n"
          ]
        }
      ]
    },
    {
      "cell_type": "code",
      "source": [
        "# 2. Data Preprocessing\n",
        "# Identifikasi kolom kategorikal\n",
        "categorical_columns = df.select_dtypes(include=['object']).columns\n",
        "print(\"Kolom kategorikal:\", categorical_columns)\n",
        "\n",
        "# Encoding kolom kategorikal (gunakan one-hot encoding)\n",
        "df_encoded = pd.get_dummies(df, columns=categorical_columns)\n",
        "print(\"Dataset setelah encoding:\", df_encoded.info())\n",
        "\n",
        "# Asumsi kolom terakhir adalah target (ubah sesuai dataset Anda)\n",
        "X = df_encoded.iloc[:, :-1]  # Fitur (semua kolom kecuali target)\n",
        "y = df_encoded.iloc[:, -1]   # Target (kolom terakhir)\n",
        "\n",
        "# Normalisasi target ke dalam rentang [0, 1]\n",
        "y = y.astype(float)  # Konversi target ke tipe float\n",
        "y_normalized = (y - y.min()) / (y.max() - y.min())\n",
        "\n",
        "# Split data menjadi data latih dan data uji\n",
        "X_train, X_test, y_train, y_test = train_test_split(X, y_normalized, test_size=0.2, random_state=42)\n",
        "\n",
        "# Normalisasi data menggunakan StandardScaler\n",
        "scaler = StandardScaler()\n",
        "X_train = scaler.fit_transform(X_train)\n",
        "X_test = scaler.transform(X_test)"
      ],
      "metadata": {
        "colab": {
          "base_uri": "https://localhost:8080/"
        },
        "id": "kYLuHzkN-CH8",
        "outputId": "544a4181-997b-4e83-f9d2-887e078baa68"
      },
      "execution_count": 18,
      "outputs": [
        {
          "output_type": "stream",
          "name": "stdout",
          "text": [
            "Kolom kategorikal: Index(['x1', 'x3', 'x4', 'x6', 'x7', 'x9', 'x10', 'x12', 'x14', 'x15', 'x17',\n",
            "       'x19', 'x20'],\n",
            "      dtype='object')\n",
            "<class 'pandas.core.frame.DataFrame'>\n",
            "RangeIndex: 1000 entries, 0 to 999\n",
            "Data columns (total 62 columns):\n",
            " #   Column    Non-Null Count  Dtype\n",
            "---  ------    --------------  -----\n",
            " 0   x2        1000 non-null   int64\n",
            " 1   x5        1000 non-null   int64\n",
            " 2   x8        1000 non-null   int64\n",
            " 3   x11       1000 non-null   int64\n",
            " 4   x13       1000 non-null   int64\n",
            " 5   x16       1000 non-null   int64\n",
            " 6   x18       1000 non-null   int64\n",
            " 7   Class     1000 non-null   int64\n",
            " 8   x1_A11    1000 non-null   bool \n",
            " 9   x1_A12    1000 non-null   bool \n",
            " 10  x1_A13    1000 non-null   bool \n",
            " 11  x1_A14    1000 non-null   bool \n",
            " 12  x3_A30    1000 non-null   bool \n",
            " 13  x3_A31    1000 non-null   bool \n",
            " 14  x3_A32    1000 non-null   bool \n",
            " 15  x3_A33    1000 non-null   bool \n",
            " 16  x3_A34    1000 non-null   bool \n",
            " 17  x4_A40    1000 non-null   bool \n",
            " 18  x4_A41    1000 non-null   bool \n",
            " 19  x4_A410   1000 non-null   bool \n",
            " 20  x4_A42    1000 non-null   bool \n",
            " 21  x4_A43    1000 non-null   bool \n",
            " 22  x4_A44    1000 non-null   bool \n",
            " 23  x4_A45    1000 non-null   bool \n",
            " 24  x4_A46    1000 non-null   bool \n",
            " 25  x4_A48    1000 non-null   bool \n",
            " 26  x4_A49    1000 non-null   bool \n",
            " 27  x6_A61    1000 non-null   bool \n",
            " 28  x6_A62    1000 non-null   bool \n",
            " 29  x6_A63    1000 non-null   bool \n",
            " 30  x6_A64    1000 non-null   bool \n",
            " 31  x6_A65    1000 non-null   bool \n",
            " 32  x7_A71    1000 non-null   bool \n",
            " 33  x7_A72    1000 non-null   bool \n",
            " 34  x7_A73    1000 non-null   bool \n",
            " 35  x7_A74    1000 non-null   bool \n",
            " 36  x7_A75    1000 non-null   bool \n",
            " 37  x9_A91    1000 non-null   bool \n",
            " 38  x9_A92    1000 non-null   bool \n",
            " 39  x9_A93    1000 non-null   bool \n",
            " 40  x9_A94    1000 non-null   bool \n",
            " 41  x10_A101  1000 non-null   bool \n",
            " 42  x10_A102  1000 non-null   bool \n",
            " 43  x10_A103  1000 non-null   bool \n",
            " 44  x12_A121  1000 non-null   bool \n",
            " 45  x12_A122  1000 non-null   bool \n",
            " 46  x12_A123  1000 non-null   bool \n",
            " 47  x12_A124  1000 non-null   bool \n",
            " 48  x14_A141  1000 non-null   bool \n",
            " 49  x14_A142  1000 non-null   bool \n",
            " 50  x14_A143  1000 non-null   bool \n",
            " 51  x15_A151  1000 non-null   bool \n",
            " 52  x15_A152  1000 non-null   bool \n",
            " 53  x15_A153  1000 non-null   bool \n",
            " 54  x17_A171  1000 non-null   bool \n",
            " 55  x17_A172  1000 non-null   bool \n",
            " 56  x17_A173  1000 non-null   bool \n",
            " 57  x17_A174  1000 non-null   bool \n",
            " 58  x19_A191  1000 non-null   bool \n",
            " 59  x19_A192  1000 non-null   bool \n",
            " 60  x20_A201  1000 non-null   bool \n",
            " 61  x20_A202  1000 non-null   bool \n",
            "dtypes: bool(54), int64(8)\n",
            "memory usage: 115.4 KB\n",
            "Dataset setelah encoding: None\n"
          ]
        }
      ]
    },
    {
      "cell_type": "code",
      "execution_count": 19,
      "metadata": {
        "colab": {
          "base_uri": "https://localhost:8080/",
          "height": 592
        },
        "id": "PRIsAOkf5_cV",
        "outputId": "d793b1d2-8b68-4962-f9e8-accaf6a34fb2"
      },
      "outputs": [
        {
          "output_type": "stream",
          "name": "stdout",
          "text": [
            "Hasil Evaluasi SVM Regression:\n",
            "Mean Squared Error (MSE): 0.011570782853697857\n",
            "Mean Absolute Error (MAE): 0.09136430220043586\n",
            "R-squared (R²): 0.7307554891518824\n"
          ]
        },
        {
          "output_type": "display_data",
          "data": {
            "text/plain": [
              "<Figure size 1000x600 with 1 Axes>"
            ],
            "image/png": "[encoded data removed]"
          },
          "metadata": {}
        }
      ],
      "source": [
        "# 3. Model Training: SVM Regression\n",
        "svm_regressor = SVR(kernel='rbf')\n",
        "svm_regressor.fit(X_train, y_train)\n",
        "\n",
        "# Prediksi\n",
        "y_pred = svm_regressor.predict(X_test)\n",
        "\n",
        "# Evaluasi\n",
        "mse = mean_squared_error(y_test, y_pred)\n",
        "mae = mean_absolute_error(y_test, y_pred)\n",
        "r2 = r2_score(y_test, y_pred)\n",
        "\n",
        "# Print hasil evaluasi\n",
        "print(\"Hasil Evaluasi SVM Regression:\")\n",
        "print(f\"Mean Squared Error (MSE): {mse}\")\n",
        "print(f\"Mean Absolute Error (MAE): {mae}\")\n",
        "print(f\"R-squared (R²): {r2}\")\n",
        "\n",
        "# Visualisasi hasil prediksi vs aktual\n",
        "plt.figure(figsize=(10, 6))\n",
        "plt.scatter(y_test, y_pred, alpha=0.6, color='blue')\n",
        "plt.plot([0, 1], [0, 1], color='red', linestyle='--', linewidth=2)  # Line of perfect prediction\n",
        "plt.title('Prediksi vs Aktual - SVM Regression')\n",
        "plt.xlabel('Nilai Aktual')\n",
        "plt.ylabel('Nilai Prediksi')\n",
        "plt.grid()\n",
        "plt.show()"
      ]
    }
  ]
}